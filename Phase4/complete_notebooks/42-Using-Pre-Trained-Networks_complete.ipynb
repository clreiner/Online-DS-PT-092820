{
 "cells": [
  {
   "cell_type": "markdown",
   "metadata": {},
   "source": [
    "# Neural Networks Part 3:\n",
    "\n",
    "## Pre-Trained Networks and Word Embeddings and LSTMs, oh my!"
   ]
  },
  {
   "cell_type": "code",
   "execution_count": 1,
   "metadata": {},
   "outputs": [],
   "source": [
    "# Imports\n",
    "import pandas as pd\n",
    "import numpy as np\n",
    "import matplotlib.pyplot as plt\n",
    "\n",
    "import nltk\n",
    "from nltk.corpus import stopwords\n",
    "\n",
    "from sklearn.model_selection import train_test_split\n",
    "\n",
    "from tensorflow import keras\n",
    "from tensorflow.keras import layers"
   ]
  },
  {
   "cell_type": "code",
   "execution_count": 2,
   "metadata": {},
   "outputs": [],
   "source": [
    "# Defining our results visualization function\n",
    "def visualize_training_results(history):\n",
    "    '''\n",
    "    From https://machinelearningmastery.com/display-deep-learning-model-training-history-in-keras/\n",
    "    \n",
    "    Input: keras history object (output from trained model)\n",
    "    '''\n",
    "    fig, (ax1, ax2) = plt.subplots(2, sharex=True)\n",
    "    fig.suptitle('Model Results')\n",
    "\n",
    "    # summarize history for accuracy\n",
    "    ax1.plot(history.history['accuracy'])\n",
    "    ax1.plot(history.history['val_accuracy'])\n",
    "    ax1.set_ylabel('Accuracy')\n",
    "    ax1.legend(['train', 'test'], loc='upper left')\n",
    "    # summarize history for loss\n",
    "    ax2.plot(history.history['loss'])\n",
    "    ax2.plot(history.history['val_loss'])\n",
    "    ax2.set_ylabel('Loss')\n",
    "    ax2.legend(['train', 'test'], loc='upper left')\n",
    "    \n",
    "    plt.xlabel('Epoch')\n",
    "    plt.show()"
   ]
  },
  {
   "cell_type": "markdown",
   "metadata": {},
   "source": [
    "## First: Pre-Trained Image Classification Model"
   ]
  },
  {
   "cell_type": "markdown",
   "metadata": {},
   "source": [
    "A pretrained network (also known as a convolutional base for CNNs) consists of layers that have already been trained on typically general data. For images, these layers have already learned general patterns, textures, colors, etc. such that when you feed in your training data, certain features can immediately be detected. This part is **feature extraction**.\n",
    "\n",
    "You typically add your own final layers to train the network to classify/regress based on your problem. This component is **fine tuning**\n",
    "\n",
    "Here are the pretrained image classification models that exist within Keras: https://keras.io/api/applications/\n",
    "\n",
    "To demonstrate the utility of pretrained networks, we'll compare model performance between a baseline model and a model using a pretrained network (VGG19)."
   ]
  },
  {
   "cell_type": "markdown",
   "metadata": {},
   "source": [
    "### Adding Pretrained Layers\n",
    "\n",
    "VGG19: https://keras.io/api/applications/vgg/#vgg19-function"
   ]
  },
  {
   "cell_type": "code",
   "execution_count": 3,
   "metadata": {},
   "outputs": [],
   "source": [
    "from keras.applications import VGG19"
   ]
  },
  {
   "cell_type": "code",
   "execution_count": 4,
   "metadata": {},
   "outputs": [],
   "source": [
    "pretrained = VGG19(weights='imagenet',\n",
    "                   include_top=True,\n",
    "                   input_shape=(224, 224, 3))\n",
    "# May download data at this step, shouldn't take long"
   ]
  },
  {
   "cell_type": "code",
   "execution_count": 5,
   "metadata": {},
   "outputs": [
    {
     "name": "stdout",
     "output_type": "stream",
     "text": [
      "Model: \"vgg19\"\n",
      "_________________________________________________________________\n",
      "Layer (type)                 Output Shape              Param #   \n",
      "=================================================================\n",
      "input_1 (InputLayer)         [(None, 224, 224, 3)]     0         \n",
      "_________________________________________________________________\n",
      "block1_conv1 (Conv2D)        (None, 224, 224, 64)      1792      \n",
      "_________________________________________________________________\n",
      "block1_conv2 (Conv2D)        (None, 224, 224, 64)      36928     \n",
      "_________________________________________________________________\n",
      "block1_pool (MaxPooling2D)   (None, 112, 112, 64)      0         \n",
      "_________________________________________________________________\n",
      "block2_conv1 (Conv2D)        (None, 112, 112, 128)     73856     \n",
      "_________________________________________________________________\n",
      "block2_conv2 (Conv2D)        (None, 112, 112, 128)     147584    \n",
      "_________________________________________________________________\n",
      "block2_pool (MaxPooling2D)   (None, 56, 56, 128)       0         \n",
      "_________________________________________________________________\n",
      "block3_conv1 (Conv2D)        (None, 56, 56, 256)       295168    \n",
      "_________________________________________________________________\n",
      "block3_conv2 (Conv2D)        (None, 56, 56, 256)       590080    \n",
      "_________________________________________________________________\n",
      "block3_conv3 (Conv2D)        (None, 56, 56, 256)       590080    \n",
      "_________________________________________________________________\n",
      "block3_conv4 (Conv2D)        (None, 56, 56, 256)       590080    \n",
      "_________________________________________________________________\n",
      "block3_pool (MaxPooling2D)   (None, 28, 28, 256)       0         \n",
      "_________________________________________________________________\n",
      "block4_conv1 (Conv2D)        (None, 28, 28, 512)       1180160   \n",
      "_________________________________________________________________\n",
      "block4_conv2 (Conv2D)        (None, 28, 28, 512)       2359808   \n",
      "_________________________________________________________________\n",
      "block4_conv3 (Conv2D)        (None, 28, 28, 512)       2359808   \n",
      "_________________________________________________________________\n",
      "block4_conv4 (Conv2D)        (None, 28, 28, 512)       2359808   \n",
      "_________________________________________________________________\n",
      "block4_pool (MaxPooling2D)   (None, 14, 14, 512)       0         \n",
      "_________________________________________________________________\n",
      "block5_conv1 (Conv2D)        (None, 14, 14, 512)       2359808   \n",
      "_________________________________________________________________\n",
      "block5_conv2 (Conv2D)        (None, 14, 14, 512)       2359808   \n",
      "_________________________________________________________________\n",
      "block5_conv3 (Conv2D)        (None, 14, 14, 512)       2359808   \n",
      "_________________________________________________________________\n",
      "block5_conv4 (Conv2D)        (None, 14, 14, 512)       2359808   \n",
      "_________________________________________________________________\n",
      "block5_pool (MaxPooling2D)   (None, 7, 7, 512)         0         \n",
      "_________________________________________________________________\n",
      "flatten (Flatten)            (None, 25088)             0         \n",
      "_________________________________________________________________\n",
      "fc1 (Dense)                  (None, 4096)              102764544 \n",
      "_________________________________________________________________\n",
      "fc2 (Dense)                  (None, 4096)              16781312  \n",
      "_________________________________________________________________\n",
      "predictions (Dense)          (None, 1000)              4097000   \n",
      "=================================================================\n",
      "Total params: 143,667,240\n",
      "Trainable params: 143,667,240\n",
      "Non-trainable params: 0\n",
      "_________________________________________________________________\n"
     ]
    }
   ],
   "source": [
    "pretrained.summary()"
   ]
  },
  {
   "cell_type": "code",
   "execution_count": 6,
   "metadata": {},
   "outputs": [],
   "source": [
    "cnn = keras.models.Sequential()\n",
    "cnn.add(pretrained)\n",
    "\n",
    "# freezing layers so they don't get retrained with your new data\n",
    "for layer in cnn.layers:\n",
    "    layer.trainable=False "
   ]
  },
  {
   "cell_type": "code",
   "execution_count": 7,
   "metadata": {},
   "outputs": [],
   "source": [
    "# adding our own dense layers\n",
    "cnn.add(layers.Flatten())\n",
    "cnn.add(layers.Dense(132, activation='relu'))\n",
    "cnn.add(layers.Dense(1, activation='softmax'))"
   ]
  },
  {
   "cell_type": "code",
   "execution_count": 8,
   "metadata": {},
   "outputs": [
    {
     "name": "stdout",
     "output_type": "stream",
     "text": [
      "Model: \"sequential\"\n",
      "_________________________________________________________________\n",
      "Layer (type)                 Output Shape              Param #   \n",
      "=================================================================\n",
      "vgg19 (Functional)           (None, 1000)              143667240 \n",
      "_________________________________________________________________\n",
      "flatten (Flatten)            (None, 1000)              0         \n",
      "_________________________________________________________________\n",
      "dense (Dense)                (None, 132)               132132    \n",
      "_________________________________________________________________\n",
      "dense_1 (Dense)              (None, 1)                 133       \n",
      "=================================================================\n",
      "Total params: 143,799,505\n",
      "Trainable params: 132,265\n",
      "Non-trainable params: 143,667,240\n",
      "_________________________________________________________________\n"
     ]
    }
   ],
   "source": [
    "cnn.summary()"
   ]
  },
  {
   "cell_type": "code",
   "execution_count": 9,
   "metadata": {
    "scrolled": true
   },
   "outputs": [
    {
     "name": "stdout",
     "output_type": "stream",
     "text": [
      "vgg19 False\n",
      "flatten True\n",
      "dense True\n",
      "dense_1 True\n"
     ]
    }
   ],
   "source": [
    "# to verify that the weights are \"frozen\" \n",
    "for layer in cnn.layers:\n",
    "    print(layer.name, layer.trainable)"
   ]
  },
  {
   "cell_type": "markdown",
   "metadata": {},
   "source": [
    "With this you can now compile and fit your model!"
   ]
  },
  {
   "cell_type": "markdown",
   "metadata": {},
   "source": [
    "## Now: Using Pre-Trained Embeddings and NNs for NLP Tasks"
   ]
  },
  {
   "cell_type": "markdown",
   "metadata": {},
   "source": [
    "For the most part, following this example: https://stackabuse.com/python-for-nlp-movie-sentiment-analysis-using-deep-learning-in-keras/\n",
    "\n",
    "Also relevant: https://machinelearningmastery.com/develop-word-embedding-model-predicting-movie-review-sentiment/\n",
    "\n",
    "Data is: https://www.kaggle.com/lakshmi25npathi/imdb-dataset-of-50k-movie-reviews"
   ]
  },
  {
   "cell_type": "code",
   "execution_count": 10,
   "metadata": {},
   "outputs": [],
   "source": [
    "# Read in and explore the data\n",
    "df = pd.read_csv('data/IMDB_Reviews.csv')"
   ]
  },
  {
   "cell_type": "code",
   "execution_count": 11,
   "metadata": {},
   "outputs": [
    {
     "data": {
      "text/html": [
       "<div>\n",
       "<style scoped>\n",
       "    .dataframe tbody tr th:only-of-type {\n",
       "        vertical-align: middle;\n",
       "    }\n",
       "\n",
       "    .dataframe tbody tr th {\n",
       "        vertical-align: top;\n",
       "    }\n",
       "\n",
       "    .dataframe thead th {\n",
       "        text-align: right;\n",
       "    }\n",
       "</style>\n",
       "<table border=\"1\" class=\"dataframe\">\n",
       "  <thead>\n",
       "    <tr style=\"text-align: right;\">\n",
       "      <th></th>\n",
       "      <th>review</th>\n",
       "      <th>sentiment</th>\n",
       "    </tr>\n",
       "  </thead>\n",
       "  <tbody>\n",
       "    <tr>\n",
       "      <th>0</th>\n",
       "      <td>One of the other reviewers has mentioned that ...</td>\n",
       "      <td>positive</td>\n",
       "    </tr>\n",
       "    <tr>\n",
       "      <th>1</th>\n",
       "      <td>A wonderful little production. &lt;br /&gt;&lt;br /&gt;The...</td>\n",
       "      <td>positive</td>\n",
       "    </tr>\n",
       "    <tr>\n",
       "      <th>2</th>\n",
       "      <td>I thought this was a wonderful way to spend ti...</td>\n",
       "      <td>positive</td>\n",
       "    </tr>\n",
       "    <tr>\n",
       "      <th>3</th>\n",
       "      <td>Basically there's a family where a little boy ...</td>\n",
       "      <td>negative</td>\n",
       "    </tr>\n",
       "    <tr>\n",
       "      <th>4</th>\n",
       "      <td>Petter Mattei's \"Love in the Time of Money\" is...</td>\n",
       "      <td>positive</td>\n",
       "    </tr>\n",
       "  </tbody>\n",
       "</table>\n",
       "</div>"
      ],
      "text/plain": [
       "                                              review sentiment\n",
       "0  One of the other reviewers has mentioned that ...  positive\n",
       "1  A wonderful little production. <br /><br />The...  positive\n",
       "2  I thought this was a wonderful way to spend ti...  positive\n",
       "3  Basically there's a family where a little boy ...  negative\n",
       "4  Petter Mattei's \"Love in the Time of Money\" is...  positive"
      ]
     },
     "execution_count": 11,
     "metadata": {},
     "output_type": "execute_result"
    }
   ],
   "source": [
    "df.head()"
   ]
  },
  {
   "cell_type": "code",
   "execution_count": 12,
   "metadata": {},
   "outputs": [
    {
     "name": "stdout",
     "output_type": "stream",
     "text": [
      "<class 'pandas.core.frame.DataFrame'>\n",
      "RangeIndex: 50000 entries, 0 to 49999\n",
      "Data columns (total 2 columns):\n",
      " #   Column     Non-Null Count  Dtype \n",
      "---  ------     --------------  ----- \n",
      " 0   review     50000 non-null  object\n",
      " 1   sentiment  50000 non-null  object\n",
      "dtypes: object(2)\n",
      "memory usage: 781.4+ KB\n"
     ]
    }
   ],
   "source": [
    "df.info()"
   ]
  },
  {
   "cell_type": "markdown",
   "metadata": {},
   "source": [
    "### Pre-Split Preprocessing\n",
    "\n",
    "Doing some initial preprocessing that can be done before the train/test split"
   ]
  },
  {
   "cell_type": "code",
   "execution_count": 13,
   "metadata": {
    "scrolled": true
   },
   "outputs": [
    {
     "data": {
      "text/plain": [
       "'A wonderful little production. <br /><br />The filming technique is very unassuming- very old-time-BBC fashion and gives a comforting, and sometimes discomforting, sense of realism to the entire piece. <br /><br />The actors are extremely well chosen- Michael Sheen not only \"has got all the polari\" but he has all the voices down pat too! You can truly see the seamless editing guided by the references to Williams\\' diary entries, not only is it well worth the watching but it is a terrificly written and performed piece. A masterful production about one of the great master\\'s of comedy and his life. <br /><br />The realism really comes home with the little things: the fantasy of the guard which, rather than use the traditional \\'dream\\' techniques remains solid then disappears. It plays on our knowledge and our senses, particularly with the scenes concerning Orton and Halliwell and the sets (particularly of their flat with Halliwell\\'s murals decorating every surface) are terribly well done.'"
      ]
     },
     "execution_count": 13,
     "metadata": {},
     "output_type": "execute_result"
    }
   ],
   "source": [
    "# Let's check out an example review...\n",
    "df['review'][1]"
   ]
  },
  {
   "cell_type": "markdown",
   "metadata": {},
   "source": [
    "We have some HTML tags inside these texts... will want to remove them. But how?\n",
    "\n",
    "Enter: Regular Expressions (regex).\n",
    "\n",
    "Testing: https://regexr.com/"
   ]
  },
  {
   "cell_type": "code",
   "execution_count": 15,
   "metadata": {},
   "outputs": [],
   "source": [
    "# Find the pattern to remove html tags\n",
    "import re\n",
    "\n",
    "html_tag_pattern = re.compile(r'<[^>]*>')\n",
    "\n",
    "test = html_tag_pattern.sub('', df['review'][1])"
   ]
  },
  {
   "cell_type": "code",
   "execution_count": 16,
   "metadata": {},
   "outputs": [
    {
     "data": {
      "text/plain": [
       "'A wonderful little production. The filming technique is very unassuming- very old-time-BBC fashion and gives a comforting, and sometimes discomforting, sense of realism to the entire piece. The actors are extremely well chosen- Michael Sheen not only \"has got all the polari\" but he has all the voices down pat too! You can truly see the seamless editing guided by the references to Williams\\' diary entries, not only is it well worth the watching but it is a terrificly written and performed piece. A masterful production about one of the great master\\'s of comedy and his life. The realism really comes home with the little things: the fantasy of the guard which, rather than use the traditional \\'dream\\' techniques remains solid then disappears. It plays on our knowledge and our senses, particularly with the scenes concerning Orton and Halliwell and the sets (particularly of their flat with Halliwell\\'s murals decorating every surface) are terribly well done.'"
      ]
     },
     "execution_count": 16,
     "metadata": {},
     "output_type": "execute_result"
    }
   ],
   "source": [
    "test"
   ]
  },
  {
   "cell_type": "code",
   "execution_count": 19,
   "metadata": {},
   "outputs": [],
   "source": [
    "# Apply our pattern to the dataset\n",
    "df['review'] = df['review'].apply(lambda x:  html_tag_pattern.sub('', x))\n",
    "\n",
    "# Same as:\n",
    "# df['review'].apply(lambda x:  re.sub(r'<[^>]*>', '', x))"
   ]
  },
  {
   "cell_type": "code",
   "execution_count": 21,
   "metadata": {
    "scrolled": true
   },
   "outputs": [
    {
     "data": {
      "text/plain": [
       "'A wonderful little production. The filming technique is very unassuming- very old-time-BBC fashion and gives a comforting, and sometimes discomforting, sense of realism to the entire piece. The actors are extremely well chosen- Michael Sheen not only \"has got all the polari\" but he has all the voices down pat too! You can truly see the seamless editing guided by the references to Williams\\' diary entries, not only is it well worth the watching but it is a terrificly written and performed piece. A masterful production about one of the great master\\'s of comedy and his life. The realism really comes home with the little things: the fantasy of the guard which, rather than use the traditional \\'dream\\' techniques remains solid then disappears. It plays on our knowledge and our senses, particularly with the scenes concerning Orton and Halliwell and the sets (particularly of their flat with Halliwell\\'s murals decorating every surface) are terribly well done.'"
      ]
     },
     "execution_count": 21,
     "metadata": {},
     "output_type": "execute_result"
    }
   ],
   "source": [
    "# Sanity check\n",
    "df['review'][1]"
   ]
  },
  {
   "cell_type": "markdown",
   "metadata": {},
   "source": [
    "Let's also remove stopwords"
   ]
  },
  {
   "cell_type": "code",
   "execution_count": 22,
   "metadata": {},
   "outputs": [],
   "source": [
    "# Define our stopwords list\n",
    "stop_words = stopwords.words('english')"
   ]
  },
  {
   "cell_type": "code",
   "execution_count": 27,
   "metadata": {},
   "outputs": [],
   "source": [
    "# Remove them\n",
    "df['review'] = df['review'].apply(lambda x: ' '.join(\n",
    "    [word for word in x.split() if word.lower() not in (stop_words)]))"
   ]
  },
  {
   "cell_type": "code",
   "execution_count": 28,
   "metadata": {},
   "outputs": [
    {
     "data": {
      "text/plain": [
       "'wonderful little production. filming technique unassuming- old-time-BBC fashion gives comforting, sometimes discomforting, sense realism entire piece. actors extremely well chosen- Michael Sheen \"has got polari\" voices pat too! truly see seamless editing guided references Williams\\' diary entries, well worth watching terrificly written performed piece. masterful production one great master\\'s comedy life. realism really comes home little things: fantasy guard which, rather use traditional \\'dream\\' techniques remains solid disappears. plays knowledge senses, particularly scenes concerning Orton Halliwell sets (particularly flat Halliwell\\'s murals decorating every surface) terribly well done.'"
      ]
     },
     "execution_count": 28,
     "metadata": {},
     "output_type": "execute_result"
    }
   ],
   "source": [
    "df['review'][1]"
   ]
  },
  {
   "cell_type": "markdown",
   "metadata": {},
   "source": [
    "Can also pre-process our target variable"
   ]
  },
  {
   "cell_type": "code",
   "execution_count": 29,
   "metadata": {},
   "outputs": [],
   "source": [
    "# Create a target map\n",
    "target_map = {'positive': 1,\n",
    "              'negative': 0}"
   ]
  },
  {
   "cell_type": "code",
   "execution_count": 32,
   "metadata": {},
   "outputs": [],
   "source": [
    "# Map it\n",
    "df['sentiment'] = df['sentiment'].map(target_map)"
   ]
  },
  {
   "cell_type": "code",
   "execution_count": 33,
   "metadata": {},
   "outputs": [
    {
     "data": {
      "text/html": [
       "<div>\n",
       "<style scoped>\n",
       "    .dataframe tbody tr th:only-of-type {\n",
       "        vertical-align: middle;\n",
       "    }\n",
       "\n",
       "    .dataframe tbody tr th {\n",
       "        vertical-align: top;\n",
       "    }\n",
       "\n",
       "    .dataframe thead th {\n",
       "        text-align: right;\n",
       "    }\n",
       "</style>\n",
       "<table border=\"1\" class=\"dataframe\">\n",
       "  <thead>\n",
       "    <tr style=\"text-align: right;\">\n",
       "      <th></th>\n",
       "      <th>review</th>\n",
       "      <th>sentiment</th>\n",
       "    </tr>\n",
       "  </thead>\n",
       "  <tbody>\n",
       "    <tr>\n",
       "      <th>0</th>\n",
       "      <td>One reviewers mentioned watching 1 Oz episode ...</td>\n",
       "      <td>1</td>\n",
       "    </tr>\n",
       "    <tr>\n",
       "      <th>1</th>\n",
       "      <td>wonderful little production. filming technique...</td>\n",
       "      <td>1</td>\n",
       "    </tr>\n",
       "    <tr>\n",
       "      <th>2</th>\n",
       "      <td>thought wonderful way spend time hot summer we...</td>\n",
       "      <td>1</td>\n",
       "    </tr>\n",
       "    <tr>\n",
       "      <th>3</th>\n",
       "      <td>Basically there's family little boy (Jake) thi...</td>\n",
       "      <td>0</td>\n",
       "    </tr>\n",
       "    <tr>\n",
       "      <th>4</th>\n",
       "      <td>Petter Mattei's \"Love Time Money\" visually stu...</td>\n",
       "      <td>1</td>\n",
       "    </tr>\n",
       "  </tbody>\n",
       "</table>\n",
       "</div>"
      ],
      "text/plain": [
       "                                              review  sentiment\n",
       "0  One reviewers mentioned watching 1 Oz episode ...          1\n",
       "1  wonderful little production. filming technique...          1\n",
       "2  thought wonderful way spend time hot summer we...          1\n",
       "3  Basically there's family little boy (Jake) thi...          0\n",
       "4  Petter Mattei's \"Love Time Money\" visually stu...          1"
      ]
     },
     "execution_count": 33,
     "metadata": {},
     "output_type": "execute_result"
    }
   ],
   "source": [
    "# Sanity check\n",
    "df.head()"
   ]
  },
  {
   "cell_type": "markdown",
   "metadata": {},
   "source": [
    "### Split, and then Post-Split Processing\n",
    "Now let's perform a train/test split:"
   ]
  },
  {
   "cell_type": "code",
   "execution_count": 34,
   "metadata": {},
   "outputs": [],
   "source": [
    "# Define our X and y\n",
    "X = df['review']\n",
    "y = df['sentiment']\n",
    "\n",
    "# Split\n",
    "X_train, X_test, y_train, y_test = train_test_split(X, y, test_size=0.25, random_state=42)"
   ]
  },
  {
   "cell_type": "code",
   "execution_count": 35,
   "metadata": {},
   "outputs": [
    {
     "data": {
      "text/plain": [
       "(37500,)"
      ]
     },
     "execution_count": 35,
     "metadata": {},
     "output_type": "execute_result"
    }
   ],
   "source": [
    "X_train.shape"
   ]
  },
  {
   "cell_type": "markdown",
   "metadata": {},
   "source": [
    "Now, time to tokenize our text. Going to use keras's tokenizer: https://www.tensorflow.org/api_docs/python/tf/keras/preprocessing/text/Tokenizer"
   ]
  },
  {
   "cell_type": "code",
   "execution_count": 36,
   "metadata": {},
   "outputs": [
    {
     "data": {
      "text/plain": [
       "'thought wonderful way spend time hot summer weekend, sitting air conditioned theater watching light-hearted comedy. plot simplistic, dialogue witty characters likable (even well bread suspected serial killer). may disappointed realize Match Point 2: Risk Addiction, thought proof Woody Allen still fully control style many us grown love.This I\\'d laughed one Woody\\'s comedies years (dare say decade?). I\\'ve never impressed Scarlet Johanson, managed tone \"sexy\" image jumped right average, spirited young woman.This may crown jewel career, wittier \"Devil Wears Prada\" interesting \"Superman\" great comedy go see friends.'"
      ]
     },
     "execution_count": 36,
     "metadata": {},
     "output_type": "execute_result"
    }
   ],
   "source": [
    "# Showcasing an example to start\n",
    "X_train[2]"
   ]
  },
  {
   "cell_type": "code",
   "execution_count": 37,
   "metadata": {},
   "outputs": [
    {
     "data": {
      "text/plain": [
       "1452"
      ]
     },
     "execution_count": 37,
     "metadata": {},
     "output_type": "execute_result"
    }
   ],
   "source": [
    "# Find our longest review - will need for padding later\n",
    "max_length = max([len(s.split()) for s in X_train])\n",
    "max_length"
   ]
  },
  {
   "cell_type": "code",
   "execution_count": 39,
   "metadata": {},
   "outputs": [
    {
     "data": {
      "text/plain": [
       "87"
      ]
     },
     "execution_count": 39,
     "metadata": {},
     "output_type": "execute_result"
    }
   ],
   "source": [
    "len(df['review'][1].split())"
   ]
  },
  {
   "cell_type": "code",
   "execution_count": 40,
   "metadata": {},
   "outputs": [],
   "source": [
    "# Now to tokenize\n",
    "# Recommend checking out their default values - they're removing punctuation for us!\n",
    "tokenizer = keras.preprocessing.text.Tokenizer()\n",
    "tokenizer.fit_on_texts(X_train)\n",
    "\n",
    "X_train = tokenizer.texts_to_sequences(X_train)\n",
    "X_test = tokenizer.texts_to_sequences(X_test)"
   ]
  },
  {
   "cell_type": "code",
   "execution_count": 41,
   "metadata": {
    "scrolled": true
   },
   "outputs": [
    {
     "name": "stdout",
     "output_type": "stream",
     "text": [
      "[131, 152, 1, 105, 45, 30, 1510, 1038, 3560, 14062, 138, 79, 86, 44, 56, 57, 2562, 889, 200, 57, 252, 18030, 280, 7545, 483, 21, 635, 136, 2435, 8862, 5281, 146, 63, 376, 172, 27, 537, 23, 16, 2, 162, 502, 269, 12057, 677, 105, 93, 5, 199, 725, 1, 876, 903, 18031, 59, 14063, 1871, 3, 1543, 6, 1128, 4988, 427, 2582, 132, 204, 7956, 2052]\n"
     ]
    }
   ],
   "source": [
    "# Same example, after processing\n",
    "print(X_train[2])"
   ]
  },
  {
   "cell_type": "code",
   "execution_count": 42,
   "metadata": {
    "scrolled": true
   },
   "outputs": [
    {
     "data": {
      "text/plain": [
       "{'movie': 1,\n",
       " 'film': 2,\n",
       " 'one': 3,\n",
       " 'like': 4,\n",
       " 'good': 5,\n",
       " 'it': 6,\n",
       " 'the': 7,\n",
       " 'time': 8,\n",
       " 'even': 9,\n",
       " 'would': 10,\n",
       " 'really': 11,\n",
       " 'story': 12,\n",
       " 'see': 13,\n",
       " 'well': 14,\n",
       " 'much': 15,\n",
       " 'bad': 16,\n",
       " 'get': 17,\n",
       " 'great': 18,\n",
       " 'also': 19,\n",
       " 'people': 20,\n",
       " 'first': 21,\n",
       " 'made': 22,\n",
       " 'make': 23,\n",
       " 'way': 24,\n",
       " 'could': 25,\n",
       " 'movies': 26,\n",
       " 'think': 27,\n",
       " 'characters': 28,\n",
       " 'watch': 29,\n",
       " 'seen': 30,\n",
       " 'films': 31,\n",
       " 'two': 32,\n",
       " 'many': 33,\n",
       " 'character': 34,\n",
       " 'plot': 35,\n",
       " 'never': 36,\n",
       " 'acting': 37,\n",
       " 'love': 38,\n",
       " 'life': 39,\n",
       " 'best': 40,\n",
       " 'know': 41,\n",
       " 'little': 42,\n",
       " 'show': 43,\n",
       " 'i': 44,\n",
       " 'ever': 45,\n",
       " 'this': 46,\n",
       " 'better': 47,\n",
       " 'end': 48,\n",
       " 'scene': 49,\n",
       " 'man': 50,\n",
       " 'still': 51,\n",
       " 'say': 52,\n",
       " 'scenes': 53,\n",
       " 'and': 54,\n",
       " 'something': 55,\n",
       " 'go': 56,\n",
       " 'back': 57,\n",
       " 'real': 58,\n",
       " \"i'm\": 59,\n",
       " 'watching': 60,\n",
       " 'thing': 61,\n",
       " 'though': 62,\n",
       " 'actors': 63,\n",
       " 'years': 64,\n",
       " 'funny': 65,\n",
       " 'actually': 66,\n",
       " 'old': 67,\n",
       " '10': 68,\n",
       " 'another': 69,\n",
       " 'work': 70,\n",
       " 'makes': 71,\n",
       " 'nothing': 72,\n",
       " 'look': 73,\n",
       " 'going': 74,\n",
       " 'find': 75,\n",
       " 'all': 76,\n",
       " 'director': 77,\n",
       " 'lot': 78,\n",
       " 'new': 79,\n",
       " 'every': 80,\n",
       " 'part': 81,\n",
       " 'cast': 82,\n",
       " 'us': 83,\n",
       " 'things': 84,\n",
       " 'quite': 85,\n",
       " 'world': 86,\n",
       " 'want': 87,\n",
       " 'horror': 88,\n",
       " 'around': 89,\n",
       " 'pretty': 90,\n",
       " 'seems': 91,\n",
       " 'take': 92,\n",
       " 'thought': 93,\n",
       " 'got': 94,\n",
       " 'however': 95,\n",
       " 'young': 96,\n",
       " 'enough': 97,\n",
       " 'big': 98,\n",
       " 'fact': 99,\n",
       " \"can't\": 100,\n",
       " 'long': 101,\n",
       " \"that's\": 102,\n",
       " 'that': 103,\n",
       " 'give': 104,\n",
       " \"i've\": 105,\n",
       " 'may': 106,\n",
       " 'series': 107,\n",
       " 'in': 108,\n",
       " 'right': 109,\n",
       " 'action': 110,\n",
       " 'without': 111,\n",
       " 'must': 112,\n",
       " 'music': 113,\n",
       " 'comedy': 114,\n",
       " 'original': 115,\n",
       " 'saw': 116,\n",
       " 'times': 117,\n",
       " 'always': 118,\n",
       " 'almost': 119,\n",
       " 'come': 120,\n",
       " 'role': 121,\n",
       " 'gets': 122,\n",
       " 'whole': 123,\n",
       " 'interesting': 124,\n",
       " 'least': 125,\n",
       " 'point': 126,\n",
       " 'guy': 127,\n",
       " 'done': 128,\n",
       " \"there's\": 129,\n",
       " 'is': 130,\n",
       " 'far': 131,\n",
       " 'a': 132,\n",
       " 'me': 133,\n",
       " 'script': 134,\n",
       " 'bit': 135,\n",
       " 'minutes': 136,\n",
       " 'feel': 137,\n",
       " '2': 138,\n",
       " 'making': 139,\n",
       " 'family': 140,\n",
       " 'anything': 141,\n",
       " 'might': 142,\n",
       " 'since': 143,\n",
       " 'probably': 144,\n",
       " 'last': 145,\n",
       " 'tv': 146,\n",
       " \"he's\": 147,\n",
       " 'kind': 148,\n",
       " 'performance': 149,\n",
       " 'away': 150,\n",
       " 'but': 151,\n",
       " 'worst': 152,\n",
       " 'fun': 153,\n",
       " 'yet': 154,\n",
       " 'hard': 155,\n",
       " 'girl': 156,\n",
       " 'sure': 157,\n",
       " 'anyone': 158,\n",
       " 'out': 159,\n",
       " 'rather': 160,\n",
       " 'found': 161,\n",
       " 'day': 162,\n",
       " 'played': 163,\n",
       " 'on': 164,\n",
       " 'although': 165,\n",
       " 'there': 166,\n",
       " 'looking': 167,\n",
       " 'woman': 168,\n",
       " 'him': 169,\n",
       " 'believe': 170,\n",
       " 'them': 171,\n",
       " 'screen': 172,\n",
       " 'trying': 173,\n",
       " 'especially': 174,\n",
       " 'up': 175,\n",
       " 'course': 176,\n",
       " 'dvd': 177,\n",
       " 'everything': 178,\n",
       " 'ending': 179,\n",
       " 'so': 180,\n",
       " 'set': 181,\n",
       " 'goes': 182,\n",
       " 'shows': 183,\n",
       " 'maybe': 184,\n",
       " 'put': 185,\n",
       " 'comes': 186,\n",
       " 'place': 187,\n",
       " 'you': 188,\n",
       " 'here': 189,\n",
       " 'worth': 190,\n",
       " 'book': 191,\n",
       " 'three': 192,\n",
       " 'main': 193,\n",
       " 'different': 194,\n",
       " 'effects': 195,\n",
       " 'sense': 196,\n",
       " 'watched': 197,\n",
       " 'looks': 198,\n",
       " 'reason': 199,\n",
       " 'money': 200,\n",
       " 'actor': 201,\n",
       " 'play': 202,\n",
       " 'american': 203,\n",
       " 'true': 204,\n",
       " 'war': 205,\n",
       " 'together': 206,\n",
       " 'job': 207,\n",
       " 'someone': 208,\n",
       " 'again': 209,\n",
       " 'everyone': 210,\n",
       " 'special': 211,\n",
       " 'instead': 212,\n",
       " 'high': 213,\n",
       " 'half': 214,\n",
       " 'takes': 215,\n",
       " 'year': 216,\n",
       " 'later': 217,\n",
       " '1': 218,\n",
       " 'said': 219,\n",
       " 'left': 220,\n",
       " 'plays': 221,\n",
       " 'seem': 222,\n",
       " 'night': 223,\n",
       " 'audience': 224,\n",
       " 'seeing': 225,\n",
       " 'beautiful': 226,\n",
       " 'house': 227,\n",
       " 'excellent': 228,\n",
       " 'shot': 229,\n",
       " 'john': 230,\n",
       " 'version': 231,\n",
       " 'black': 232,\n",
       " 'idea': 233,\n",
       " 'mind': 234,\n",
       " 'wife': 235,\n",
       " 'death': 236,\n",
       " 'fan': 237,\n",
       " 'star': 238,\n",
       " 'poor': 239,\n",
       " 'short': 240,\n",
       " 'nice': 241,\n",
       " 'second': 242,\n",
       " 'not': 243,\n",
       " 'simply': 244,\n",
       " 'budget': 245,\n",
       " 'used': 246,\n",
       " 'else': 247,\n",
       " 'completely': 248,\n",
       " '3': 249,\n",
       " 'read': 250,\n",
       " 'top': 251,\n",
       " 'along': 252,\n",
       " 'men': 253,\n",
       " 'less': 254,\n",
       " 'either': 255,\n",
       " 'home': 256,\n",
       " 'boring': 257,\n",
       " 'help': 258,\n",
       " 'dead': 259,\n",
       " 'friends': 260,\n",
       " 'line': 261,\n",
       " 'try': 262,\n",
       " 'father': 263,\n",
       " 'kids': 264,\n",
       " 'need': 265,\n",
       " 'production': 266,\n",
       " 'camera': 267,\n",
       " 'enjoy': 268,\n",
       " 'wrong': 269,\n",
       " 'use': 270,\n",
       " 'next': 271,\n",
       " 'given': 272,\n",
       " 'classic': 273,\n",
       " 'full': 274,\n",
       " 'low': 275,\n",
       " 'her': 276,\n",
       " 'rest': 277,\n",
       " 'stupid': 278,\n",
       " 'performances': 279,\n",
       " 'truly': 280,\n",
       " 'school': 281,\n",
       " 'hollywood': 282,\n",
       " 'to': 283,\n",
       " 'couple': 284,\n",
       " 'recommend': 285,\n",
       " 'video': 286,\n",
       " 'sex': 287,\n",
       " 'tell': 288,\n",
       " 'mean': 289,\n",
       " 'awful': 290,\n",
       " 'start': 291,\n",
       " 'let': 292,\n",
       " 'too': 293,\n",
       " 'women': 294,\n",
       " 'came': 295,\n",
       " 'name': 296,\n",
       " 'terrible': 297,\n",
       " 'as': 298,\n",
       " 'keep': 299,\n",
       " 'moments': 300,\n",
       " 'perhaps': 301,\n",
       " 'wonderful': 302,\n",
       " 'understand': 303,\n",
       " 'episode': 304,\n",
       " 'getting': 305,\n",
       " 'remember': 306,\n",
       " 'style': 307,\n",
       " 'human': 308,\n",
       " 'face': 309,\n",
       " 'small': 310,\n",
       " 'head': 311,\n",
       " 'person': 312,\n",
       " 'stars': 313,\n",
       " 'others': 314,\n",
       " 'definitely': 315,\n",
       " 'early': 316,\n",
       " 'written': 317,\n",
       " 'often': 318,\n",
       " 'now': 319,\n",
       " 'playing': 320,\n",
       " 'gives': 321,\n",
       " 'dialogue': 322,\n",
       " 'perfect': 323,\n",
       " 'case': 324,\n",
       " 'lines': 325,\n",
       " 'off': 326,\n",
       " 'mother': 327,\n",
       " 'finally': 328,\n",
       " 'title': 329,\n",
       " 'went': 330,\n",
       " 'piece': 331,\n",
       " 'boy': 332,\n",
       " 'certainly': 333,\n",
       " 'oh': 334,\n",
       " 'live': 335,\n",
       " 'absolutely': 336,\n",
       " 'liked': 337,\n",
       " 'sort': 338,\n",
       " 'loved': 339,\n",
       " 'laugh': 340,\n",
       " 'worse': 341,\n",
       " 'entertaining': 342,\n",
       " 'hope': 343,\n",
       " 'yes': 344,\n",
       " 'based': 345,\n",
       " 'several': 346,\n",
       " 'become': 347,\n",
       " 'supposed': 348,\n",
       " 'lost': 349,\n",
       " 'felt': 350,\n",
       " 'entire': 351,\n",
       " 'friend': 352,\n",
       " 'sound': 353,\n",
       " 'if': 354,\n",
       " 'cinema': 355,\n",
       " 'problem': 356,\n",
       " 'called': 357,\n",
       " 'for': 358,\n",
       " 'picture': 359,\n",
       " '5': 360,\n",
       " 'guys': 361,\n",
       " 'overall': 362,\n",
       " 'waste': 363,\n",
       " 'totally': 364,\n",
       " '4': 365,\n",
       " 'mr': 366,\n",
       " 'care': 367,\n",
       " 'drama': 368,\n",
       " 'no': 369,\n",
       " 'direction': 370,\n",
       " 'game': 371,\n",
       " 'beginning': 372,\n",
       " 'fans': 373,\n",
       " 'turn': 374,\n",
       " 'white': 375,\n",
       " 'seemed': 376,\n",
       " 'with': 377,\n",
       " 'lives': 378,\n",
       " 'dark': 379,\n",
       " 'lead': 380,\n",
       " 'wanted': 381,\n",
       " 'humor': 382,\n",
       " 'example': 383,\n",
       " 'already': 384,\n",
       " 'final': 385,\n",
       " 'despite': 386,\n",
       " 'children': 387,\n",
       " 'throughout': 388,\n",
       " 'evil': 389,\n",
       " 'becomes': 390,\n",
       " 'quality': 391,\n",
       " 'guess': 392,\n",
       " 'unfortunately': 393,\n",
       " 'days': 394,\n",
       " 'of': 395,\n",
       " 'history': 396,\n",
       " 'able': 397,\n",
       " 'side': 398,\n",
       " 'heart': 399,\n",
       " \"i'd\": 400,\n",
       " 'writing': 401,\n",
       " 'fine': 402,\n",
       " 'horrible': 403,\n",
       " 'wants': 404,\n",
       " 'son': 405,\n",
       " 'over': 406,\n",
       " '\\x96': 407,\n",
       " 'flick': 408,\n",
       " 'killer': 409,\n",
       " 'kill': 410,\n",
       " 'run': 411,\n",
       " 'matter': 412,\n",
       " 'close': 413,\n",
       " 'b': 414,\n",
       " 'etc': 415,\n",
       " 'works': 416,\n",
       " 'act': 417,\n",
       " 'enjoyed': 418,\n",
       " 'amazing': 419,\n",
       " 'michael': 420,\n",
       " 'tries': 421,\n",
       " 'eyes': 422,\n",
       " 'behind': 423,\n",
       " \"they're\": 424,\n",
       " 'or': 425,\n",
       " 'art': 426,\n",
       " 'be': 427,\n",
       " 'past': 428,\n",
       " 'what': 429,\n",
       " 'gave': 430,\n",
       " 'directed': 431,\n",
       " 'brilliant': 432,\n",
       " 'expect': 433,\n",
       " 'town': 434,\n",
       " 'genre': 435,\n",
       " 'hand': 436,\n",
       " 'killed': 437,\n",
       " 'turns': 438,\n",
       " 'do': 439,\n",
       " 'hour': 440,\n",
       " 'car': 441,\n",
       " 'favorite': 442,\n",
       " 'parts': 443,\n",
       " 'stuff': 444,\n",
       " 'obviously': 445,\n",
       " 'actress': 446,\n",
       " 'girls': 447,\n",
       " 'late': 448,\n",
       " 'soon': 449,\n",
       " 'viewer': 450,\n",
       " 'decent': 451,\n",
       " 'says': 452,\n",
       " 'group': 453,\n",
       " 'starts': 454,\n",
       " 'thinking': 455,\n",
       " 'highly': 456,\n",
       " 'stop': 457,\n",
       " 'sometimes': 458,\n",
       " 'who': 459,\n",
       " 'city': 460,\n",
       " 'was': 461,\n",
       " 'anyway': 462,\n",
       " 'kid': 463,\n",
       " 'type': 464,\n",
       " 'child': 465,\n",
       " 'self': 466,\n",
       " 'heard': 467,\n",
       " 'which': 468,\n",
       " 'god': 469,\n",
       " 'known': 470,\n",
       " 'happens': 471,\n",
       " 'except': 472,\n",
       " 'then': 473,\n",
       " 'took': 474,\n",
       " 'voice': 475,\n",
       " 'blood': 476,\n",
       " 'fight': 477,\n",
       " 'told': 478,\n",
       " 'coming': 479,\n",
       " 'daughter': 480,\n",
       " 'leave': 481,\n",
       " 'slow': 482,\n",
       " 'experience': 483,\n",
       " 'ok': 484,\n",
       " 'wonder': 485,\n",
       " 'strong': 486,\n",
       " 'more': 487,\n",
       " 'stories': 488,\n",
       " 'feeling': 489,\n",
       " 'police': 490,\n",
       " 'obvious': 491,\n",
       " 'extremely': 492,\n",
       " 'involved': 493,\n",
       " 'writer': 494,\n",
       " 'happen': 495,\n",
       " 'moment': 496,\n",
       " 'violence': 497,\n",
       " 'score': 498,\n",
       " 'crap': 499,\n",
       " 'lack': 500,\n",
       " 'including': 501,\n",
       " 'age': 502,\n",
       " 'living': 503,\n",
       " 'cannot': 504,\n",
       " 'particularly': 505,\n",
       " 'cut': 506,\n",
       " 'save': 507,\n",
       " 'looked': 508,\n",
       " \"it's\": 509,\n",
       " 'hit': 510,\n",
       " 'hilarious': 511,\n",
       " 'hell': 512,\n",
       " 'chance': 513,\n",
       " 'gore': 514,\n",
       " 'cool': 515,\n",
       " 'happened': 516,\n",
       " 'ago': 517,\n",
       " 'complete': 518,\n",
       " 'shown': 519,\n",
       " 'simple': 520,\n",
       " 'english': 521,\n",
       " 'murder': 522,\n",
       " 'please': 523,\n",
       " 'roles': 524,\n",
       " 'attempt': 525,\n",
       " 'taken': 526,\n",
       " 'song': 527,\n",
       " 'james': 528,\n",
       " 'serious': 529,\n",
       " 'interest': 530,\n",
       " 'opening': 531,\n",
       " 'jokes': 532,\n",
       " 'released': 533,\n",
       " 's': 534,\n",
       " 'robert': 535,\n",
       " 'hours': 536,\n",
       " 'possible': 537,\n",
       " 'david': 538,\n",
       " 'talent': 539,\n",
       " 'across': 540,\n",
       " 'none': 541,\n",
       " 'brother': 542,\n",
       " 'number': 543,\n",
       " 'saying': 544,\n",
       " 'seriously': 545,\n",
       " 'usually': 546,\n",
       " 'cinematography': 547,\n",
       " 'reality': 548,\n",
       " 'view': 549,\n",
       " 'alone': 550,\n",
       " 'hero': 551,\n",
       " 'career': 552,\n",
       " 'sad': 553,\n",
       " 'annoying': 554,\n",
       " 'exactly': 555,\n",
       " 'light': 556,\n",
       " 'documentary': 557,\n",
       " 'order': 558,\n",
       " 'shots': 559,\n",
       " 'whose': 560,\n",
       " 'huge': 561,\n",
       " 'today': 562,\n",
       " 'wish': 563,\n",
       " 'word': 564,\n",
       " 'ridiculous': 565,\n",
       " 'body': 566,\n",
       " 'husband': 567,\n",
       " 'scary': 568,\n",
       " 'ends': 569,\n",
       " 'taking': 570,\n",
       " 'running': 571,\n",
       " 'power': 572,\n",
       " \"film's\": 573,\n",
       " 'started': 574,\n",
       " 'middle': 575,\n",
       " 'four': 576,\n",
       " 'relationship': 577,\n",
       " 'important': 578,\n",
       " 'turned': 579,\n",
       " 'female': 580,\n",
       " 'change': 581,\n",
       " 'rating': 582,\n",
       " 'beyond': 583,\n",
       " 'major': 584,\n",
       " 'opinion': 585,\n",
       " \"i'll\": 586,\n",
       " 'level': 587,\n",
       " 'somewhat': 588,\n",
       " 'silly': 589,\n",
       " 'call': 590,\n",
       " 'upon': 591,\n",
       " 'ones': 592,\n",
       " 'mostly': 593,\n",
       " 'strange': 594,\n",
       " 'room': 595,\n",
       " 'episodes': 596,\n",
       " 'country': 597,\n",
       " 'apparently': 598,\n",
       " 'talking': 599,\n",
       " 'words': 600,\n",
       " 'basically': 601,\n",
       " 'novel': 602,\n",
       " 'happy': 603,\n",
       " 'attention': 604,\n",
       " 'due': 605,\n",
       " 'knew': 606,\n",
       " 'single': 607,\n",
       " 'jack': 608,\n",
       " 'usual': 609,\n",
       " 'problems': 610,\n",
       " 'why': 611,\n",
       " 'disappointed': 612,\n",
       " 'modern': 613,\n",
       " 'knows': 614,\n",
       " 'non': 615,\n",
       " 'british': 616,\n",
       " 'finds': 617,\n",
       " 'miss': 618,\n",
       " 'thriller': 619,\n",
       " 'class': 620,\n",
       " 'five': 621,\n",
       " 'television': 622,\n",
       " 'clearly': 623,\n",
       " 'musical': 624,\n",
       " 'events': 625,\n",
       " 'about': 626,\n",
       " 'talk': 627,\n",
       " 'cheap': 628,\n",
       " 'fast': 629,\n",
       " 'local': 630,\n",
       " 'review': 631,\n",
       " 'moving': 632,\n",
       " 'add': 633,\n",
       " '7': 634,\n",
       " 'ten': 635,\n",
       " 'predictable': 636,\n",
       " 'tells': 637,\n",
       " 'team': 638,\n",
       " 'sequence': 639,\n",
       " 'other': 640,\n",
       " 'die': 641,\n",
       " 'straight': 642,\n",
       " '8': 643,\n",
       " 'dialog': 644,\n",
       " 'space': 645,\n",
       " 'future': 646,\n",
       " 'supporting': 647,\n",
       " 'appears': 648,\n",
       " 'songs': 649,\n",
       " 'sets': 650,\n",
       " 'sequel': 651,\n",
       " 'whether': 652,\n",
       " 'earth': 653,\n",
       " 'dull': 654,\n",
       " 'easily': 655,\n",
       " 'near': 656,\n",
       " 'enjoyable': 657,\n",
       " 'before': 658,\n",
       " 'soundtrack': 659,\n",
       " 'lots': 660,\n",
       " 'release': 661,\n",
       " 'giving': 662,\n",
       " 'down': 663,\n",
       " 'similar': 664,\n",
       " 'french': 665,\n",
       " 'entertainment': 666,\n",
       " 'within': 667,\n",
       " 'hate': 668,\n",
       " 'falls': 669,\n",
       " 'romantic': 670,\n",
       " 'filmed': 671,\n",
       " 'suspense': 672,\n",
       " 'tried': 673,\n",
       " 'clear': 674,\n",
       " 'certain': 675,\n",
       " 'mention': 676,\n",
       " 'message': 677,\n",
       " 'bring': 678,\n",
       " 'subject': 679,\n",
       " 'george': 680,\n",
       " 'bunch': 681,\n",
       " 'working': 682,\n",
       " \"what's\": 683,\n",
       " 'showing': 684,\n",
       " 'comic': 685,\n",
       " 'needs': 686,\n",
       " 'ways': 687,\n",
       " 'easy': 688,\n",
       " 'eye': 689,\n",
       " '9': 690,\n",
       " 'storyline': 691,\n",
       " 'named': 692,\n",
       " 'surprised': 693,\n",
       " 'sorry': 694,\n",
       " 'stay': 695,\n",
       " 'did': 696,\n",
       " 'effort': 697,\n",
       " 'theme': 698,\n",
       " 'rock': 699,\n",
       " 'among': 700,\n",
       " 'stand': 701,\n",
       " 'fall': 702,\n",
       " 'tale': 703,\n",
       " 'nearly': 704,\n",
       " 'theater': 705,\n",
       " 'using': 706,\n",
       " 'editing': 707,\n",
       " 'crime': 708,\n",
       " 'deal': 709,\n",
       " 'sister': 710,\n",
       " 'comments': 711,\n",
       " 'feels': 712,\n",
       " 'elements': 713,\n",
       " 'realistic': 714,\n",
       " 'kept': 715,\n",
       " 'king': 716,\n",
       " 'feature': 717,\n",
       " 'general': 718,\n",
       " 'avoid': 719,\n",
       " 'monster': 720,\n",
       " 'typical': 721,\n",
       " 'minute': 722,\n",
       " 'dr': 723,\n",
       " 'points': 724,\n",
       " 'buy': 725,\n",
       " 'greatest': 726,\n",
       " 'means': 727,\n",
       " 'okay': 728,\n",
       " 'follow': 729,\n",
       " 'gone': 730,\n",
       " 'famous': 731,\n",
       " 'oscar': 732,\n",
       " 'viewers': 733,\n",
       " 'parents': 734,\n",
       " 'doubt': 735,\n",
       " 'brought': 736,\n",
       " 'check': 737,\n",
       " 'at': 738,\n",
       " 'mystery': 739,\n",
       " 'actual': 740,\n",
       " 'begins': 741,\n",
       " 'lady': 742,\n",
       " 'period': 743,\n",
       " 'rent': 744,\n",
       " 'weak': 745,\n",
       " 'imagine': 746,\n",
       " 'form': 747,\n",
       " 'richard': 748,\n",
       " 'viewing': 749,\n",
       " 'fantastic': 750,\n",
       " 'material': 751,\n",
       " 'leads': 752,\n",
       " 't': 753,\n",
       " 'reviews': 754,\n",
       " 'move': 755,\n",
       " 'sequences': 756,\n",
       " \"'\": 757,\n",
       " 'somehow': 758,\n",
       " 'forget': 759,\n",
       " 'atmosphere': 760,\n",
       " 'sit': 761,\n",
       " 'whatever': 762,\n",
       " 'learn': 763,\n",
       " 'animation': 764,\n",
       " 'he': 765,\n",
       " 'peter': 766,\n",
       " 'killing': 767,\n",
       " 'figure': 768,\n",
       " 'dog': 769,\n",
       " 'premise': 770,\n",
       " '20': 771,\n",
       " 'believable': 772,\n",
       " 'fi': 773,\n",
       " 'red': 774,\n",
       " 'average': 775,\n",
       " 'sci': 776,\n",
       " 'poorly': 777,\n",
       " 'particular': 778,\n",
       " 'surprise': 779,\n",
       " 'dance': 780,\n",
       " 'deep': 781,\n",
       " 'hear': 782,\n",
       " 'open': 783,\n",
       " 'imdb': 784,\n",
       " 'paul': 785,\n",
       " 'lame': 786,\n",
       " 'box': 787,\n",
       " 'shame': 788,\n",
       " 'acted': 789,\n",
       " 're': 790,\n",
       " 'decided': 791,\n",
       " 'eventually': 792,\n",
       " 'wait': 793,\n",
       " 'forced': 794,\n",
       " 'free': 795,\n",
       " 'credits': 796,\n",
       " 'truth': 797,\n",
       " 'expected': 798,\n",
       " 'tom': 799,\n",
       " 'romance': 800,\n",
       " 'emotional': 801,\n",
       " \"who's\": 802,\n",
       " 'western': 803,\n",
       " 'season': 804,\n",
       " 'boys': 805,\n",
       " 'doctor': 806,\n",
       " 'needed': 807,\n",
       " 'memorable': 808,\n",
       " 'are': 809,\n",
       " 'indeed': 810,\n",
       " 'situation': 811,\n",
       " 'york': 812,\n",
       " 'hot': 813,\n",
       " 'crew': 814,\n",
       " 'third': 815,\n",
       " 'note': 816,\n",
       " 'nature': 817,\n",
       " 'gay': 818,\n",
       " 'plus': 819,\n",
       " 'male': 820,\n",
       " 'difficult': 821,\n",
       " 'sexual': 822,\n",
       " 'leaves': 823,\n",
       " 'air': 824,\n",
       " 'write': 825,\n",
       " 'superb': 826,\n",
       " 'question': 827,\n",
       " 'interested': 828,\n",
       " 'possibly': 829,\n",
       " 'cheesy': 830,\n",
       " 'hands': 831,\n",
       " 'begin': 832,\n",
       " 'unless': 833,\n",
       " 'reading': 834,\n",
       " 'became': 835,\n",
       " 'otherwise': 836,\n",
       " 'footage': 837,\n",
       " 'meets': 838,\n",
       " 'badly': 839,\n",
       " 'forward': 840,\n",
       " 'society': 841,\n",
       " 'earlier': 842,\n",
       " 'screenplay': 843,\n",
       " 'laughs': 844,\n",
       " 'unique': 845,\n",
       " 'inside': 846,\n",
       " 'de': 847,\n",
       " 'comment': 848,\n",
       " 'incredibly': 849,\n",
       " 'effect': 850,\n",
       " 'setting': 851,\n",
       " 'stage': 852,\n",
       " 'quickly': 853,\n",
       " 'beauty': 854,\n",
       " 'sounds': 855,\n",
       " 'towards': 856,\n",
       " 'features': 857,\n",
       " 'e': 858,\n",
       " 'keeps': 859,\n",
       " 'dumb': 860,\n",
       " 'my': 861,\n",
       " 'following': 862,\n",
       " 'masterpiece': 863,\n",
       " 'result': 864,\n",
       " 'himself': 865,\n",
       " 'personal': 866,\n",
       " 'japanese': 867,\n",
       " 'street': 868,\n",
       " 'background': 869,\n",
       " 'meet': 870,\n",
       " 'copy': 871,\n",
       " 'previous': 872,\n",
       " 'battle': 873,\n",
       " 'america': 874,\n",
       " 'realize': 875,\n",
       " 'joke': 876,\n",
       " 'weird': 877,\n",
       " 'directing': 878,\n",
       " 'water': 879,\n",
       " 'fire': 880,\n",
       " 'total': 881,\n",
       " \"let's\": 882,\n",
       " 'rate': 883,\n",
       " 'development': 884,\n",
       " 'business': 885,\n",
       " 'writers': 886,\n",
       " 'perfectly': 887,\n",
       " 'island': 888,\n",
       " 'ask': 889,\n",
       " 'worked': 890,\n",
       " 'mark': 891,\n",
       " 'mess': 892,\n",
       " 'dream': 893,\n",
       " 'baby': 894,\n",
       " 'various': 895,\n",
       " 'powerful': 896,\n",
       " 'girlfriend': 897,\n",
       " 'front': 898,\n",
       " 'appear': 899,\n",
       " 'bill': 900,\n",
       " 'cover': 901,\n",
       " 'fairly': 902,\n",
       " 'present': 903,\n",
       " 'portrayed': 904,\n",
       " 'lee': 905,\n",
       " 'telling': 906,\n",
       " 'creepy': 907,\n",
       " 'older': 908,\n",
       " 'plenty': 909,\n",
       " 'admit': 910,\n",
       " 'brings': 911,\n",
       " 'outside': 912,\n",
       " 'deserves': 913,\n",
       " 'pay': 914,\n",
       " 'spent': 915,\n",
       " 'dramatic': 916,\n",
       " 'leading': 917,\n",
       " 'cop': 918,\n",
       " 'crazy': 919,\n",
       " 'apart': 920,\n",
       " 'joe': 921,\n",
       " 'meant': 922,\n",
       " 'create': 923,\n",
       " 'political': 924,\n",
       " 'gun': 925,\n",
       " 'fails': 926,\n",
       " 'agree': 927,\n",
       " 'party': 928,\n",
       " 'reasons': 929,\n",
       " 'missing': 930,\n",
       " 'break': 931,\n",
       " 'wasted': 932,\n",
       " 'produced': 933,\n",
       " 'secret': 934,\n",
       " 'directors': 935,\n",
       " 'attempts': 936,\n",
       " 'odd': 937,\n",
       " 'potential': 938,\n",
       " 'rich': 939,\n",
       " 'caught': 940,\n",
       " 'zombie': 941,\n",
       " 'manages': 942,\n",
       " 'list': 943,\n",
       " 'era': 944,\n",
       " 'expecting': 945,\n",
       " 'talented': 946,\n",
       " 'fighting': 947,\n",
       " 'twist': 948,\n",
       " 'success': 949,\n",
       " 'members': 950,\n",
       " 'hardly': 951,\n",
       " 'cute': 952,\n",
       " 'plain': 953,\n",
       " 'clever': 954,\n",
       " 'ideas': 955,\n",
       " 'from': 956,\n",
       " 'william': 957,\n",
       " 'large': 958,\n",
       " 'match': 959,\n",
       " 'office': 960,\n",
       " 'laughing': 961,\n",
       " 'flat': 962,\n",
       " 'itself': 963,\n",
       " 'co': 964,\n",
       " 'fantasy': 965,\n",
       " '6': 966,\n",
       " 'villain': 967,\n",
       " \"we're\": 968,\n",
       " 'unlike': 969,\n",
       " 'return': 970,\n",
       " 'ended': 971,\n",
       " 'created': 972,\n",
       " 'missed': 973,\n",
       " 'cartoon': 974,\n",
       " 'remake': 975,\n",
       " 'while': 976,\n",
       " 'pure': 977,\n",
       " 'german': 978,\n",
       " 'century': 979,\n",
       " \"'the\": 980,\n",
       " 'filled': 981,\n",
       " 'state': 982,\n",
       " 'nudity': 983,\n",
       " 'slightly': 984,\n",
       " 'escape': 985,\n",
       " 'casting': 986,\n",
       " 'recently': 987,\n",
       " 'public': 988,\n",
       " 'sadly': 989,\n",
       " 'wrote': 990,\n",
       " 'when': 991,\n",
       " 'by': 992,\n",
       " 'married': 993,\n",
       " 'hold': 994,\n",
       " 'train': 995,\n",
       " 'italian': 996,\n",
       " 'died': 997,\n",
       " 'visual': 998,\n",
       " 'pace': 999,\n",
       " 'filmmakers': 1000,\n",
       " ...}"
      ]
     },
     "execution_count": 42,
     "metadata": {},
     "output_type": "execute_result"
    }
   ],
   "source": [
    "tokenizer.word_index"
   ]
  },
  {
   "cell_type": "code",
   "execution_count": 43,
   "metadata": {},
   "outputs": [
    {
     "name": "stdout",
     "output_type": "stream",
     "text": [
      "110202\n"
     ]
    }
   ],
   "source": [
    "# Grab the corpus size\n",
    "# Adding 1 because of reserved 0 index\n",
    "vocab_size = len(tokenizer.word_index) + 1\n",
    "print(vocab_size)"
   ]
  },
  {
   "cell_type": "code",
   "execution_count": 44,
   "metadata": {},
   "outputs": [],
   "source": [
    "# Now, let's pad so each review is the same length as our longest review\n",
    "# Basically, adding zeros at the end\n",
    "\n",
    "X_train = keras.preprocessing.sequence.pad_sequences(\n",
    "    X_train, maxlen=max_length, padding='post')\n",
    "X_test = keras.preprocessing.sequence.pad_sequences(\n",
    "    X_test, maxlen=max_length, padding='post')"
   ]
  },
  {
   "cell_type": "code",
   "execution_count": 45,
   "metadata": {
    "scrolled": true
   },
   "outputs": [
    {
     "data": {
      "text/plain": [
       "array([131, 152,   1, ...,   0,   0,   0], dtype=int32)"
      ]
     },
     "execution_count": 45,
     "metadata": {},
     "output_type": "execute_result"
    }
   ],
   "source": [
    "X_train[2]"
   ]
  },
  {
   "cell_type": "markdown",
   "metadata": {},
   "source": [
    "### Pre-Trained Word Embeddings: GloVe (Global Vectors for Word Representation)\n",
    "\n",
    "The link to download the GloVe files: https://nlp.stanford.edu/projects/glove/\n",
    "\n",
    "The below function and code comes from: https://realpython.com/python-keras-text-classification/#using-pretrained-word-embeddings"
   ]
  },
  {
   "cell_type": "code",
   "execution_count": 47,
   "metadata": {},
   "outputs": [],
   "source": [
    "def create_embedding_matrix(glove_filepath, word_index, embedding_dim):\n",
    "    '''\n",
    "    Grabs the embeddings just for the words in our vocabulary\n",
    "    \n",
    "    Inputs:\n",
    "    glove_filepath - string, location of the glove text file to use\n",
    "    word_index - word_index attribute from the keras tokenizer\n",
    "    embedding_dim - int, number of dimensions to embed, a hyperparameter\n",
    "    \n",
    "    Output:\n",
    "    embedding_matrix - numpy array of embeddings\n",
    "    '''\n",
    "    vocab_size = len(word_index) + 1  # Adding again 1 because of reserved 0 index\n",
    "    embedding_matrix = np.zeros((vocab_size, embedding_dim))\n",
    "\n",
    "    with open(glove_filepath) as f:\n",
    "        for line in f:\n",
    "            word, *vector = line.split()\n",
    "            if word in word_index:\n",
    "                idx = word_index[word] \n",
    "                embedding_matrix[idx] = np.array(\n",
    "                    vector, dtype=np.float32)[:embedding_dim]\n",
    "\n",
    "    return embedding_matrix"
   ]
  },
  {
   "cell_type": "code",
   "execution_count": 48,
   "metadata": {},
   "outputs": [],
   "source": [
    "embedding_dim = 50\n",
    "embedding_matrix = create_embedding_matrix('glove.6B.50d.txt',\n",
    "                                           tokenizer.word_index, \n",
    "                                           embedding_dim)"
   ]
  },
  {
   "cell_type": "code",
   "execution_count": 49,
   "metadata": {},
   "outputs": [
    {
     "data": {
      "text/plain": [
       "array([[ 0.        ,  0.        ,  0.        , ...,  0.        ,\n",
       "         0.        ,  0.        ],\n",
       "       [ 0.30824   ,  0.17223001, -0.23339   , ..., -0.98176998,\n",
       "        -0.32146999,  0.99822998],\n",
       "       [ 0.06912   ,  0.22159   , -0.66613001, ..., -0.93550998,\n",
       "        -0.20942999,  0.67333001],\n",
       "       ...,\n",
       "       [ 0.        ,  0.        ,  0.        , ...,  0.        ,\n",
       "         0.        ,  0.        ],\n",
       "       [ 1.11450005, -0.36491001,  0.27649   , ..., -0.29796001,\n",
       "         0.60066998, -0.73312002],\n",
       "       [ 0.039808  ,  0.70003003,  0.85829997, ..., -1.84660006,\n",
       "        -0.53987998,  0.30724001]])"
      ]
     },
     "execution_count": 49,
     "metadata": {},
     "output_type": "execute_result"
    }
   ],
   "source": [
    "embedding_matrix"
   ]
  },
  {
   "cell_type": "code",
   "execution_count": 50,
   "metadata": {
    "scrolled": true
   },
   "outputs": [
    {
     "name": "stdout",
     "output_type": "stream",
     "text": [
      "Model: \"sequential_1\"\n",
      "_________________________________________________________________\n",
      "Layer (type)                 Output Shape              Param #   \n",
      "=================================================================\n",
      "embedding (Embedding)        (None, 1452, 50)          5510100   \n",
      "_________________________________________________________________\n",
      "global_max_pooling1d (Global (None, 50)                0         \n",
      "_________________________________________________________________\n",
      "dense_2 (Dense)              (None, 10)                510       \n",
      "_________________________________________________________________\n",
      "dense_3 (Dense)              (None, 1)                 11        \n",
      "=================================================================\n",
      "Total params: 5,510,621\n",
      "Trainable params: 521\n",
      "Non-trainable params: 5,510,100\n",
      "_________________________________________________________________\n"
     ]
    }
   ],
   "source": [
    "# Time to model!\n",
    "model = keras.models.Sequential()\n",
    "model.add(layers.Embedding(vocab_size, embedding_dim, \n",
    "                           weights=[embedding_matrix], \n",
    "                           input_length=max_length, \n",
    "                           trainable=False)) # Note - not retraining the embedding layer\n",
    "model.add(layers.GlobalMaxPool1D())\n",
    "model.add(layers.Dense(10, activation='relu'))\n",
    "model.add(layers.Dense(1, activation='sigmoid'))\n",
    "\n",
    "model.compile(optimizer='adam',\n",
    "              loss='binary_crossentropy',\n",
    "              metrics=['accuracy'])\n",
    "model.summary()"
   ]
  },
  {
   "cell_type": "code",
   "execution_count": 51,
   "metadata": {
    "scrolled": false
   },
   "outputs": [
    {
     "name": "stdout",
     "output_type": "stream",
     "text": [
      "Epoch 1/10\n",
      "375/375 [==============================] - 4s 10ms/step - loss: 0.6943 - accuracy: 0.5274 - val_loss: 0.6703 - val_accuracy: 0.5922\n",
      "Epoch 2/10\n",
      "375/375 [==============================] - 4s 10ms/step - loss: 0.6588 - accuracy: 0.6071 - val_loss: 0.6442 - val_accuracy: 0.6321\n",
      "Epoch 3/10\n",
      "375/375 [==============================] - 4s 10ms/step - loss: 0.6387 - accuracy: 0.6380 - val_loss: 0.6294 - val_accuracy: 0.6518\n",
      "Epoch 4/10\n",
      "375/375 [==============================] - 4s 10ms/step - loss: 0.6307 - accuracy: 0.6448 - val_loss: 0.6230 - val_accuracy: 0.6576\n",
      "Epoch 5/10\n",
      "375/375 [==============================] - 4s 10ms/step - loss: 0.6248 - accuracy: 0.6514 - val_loss: 0.6182 - val_accuracy: 0.6608\n",
      "Epoch 6/10\n",
      "375/375 [==============================] - 4s 11ms/step - loss: 0.6193 - accuracy: 0.6583 - val_loss: 0.6139 - val_accuracy: 0.6656\n",
      "Epoch 7/10\n",
      "375/375 [==============================] - 4s 10ms/step - loss: 0.6171 - accuracy: 0.6591 - val_loss: 0.6135 - val_accuracy: 0.6632\n",
      "Epoch 8/10\n",
      "375/375 [==============================] - 3s 9ms/step - loss: 0.6160 - accuracy: 0.6602 - val_loss: 0.6107 - val_accuracy: 0.6678\n",
      "Epoch 9/10\n",
      "375/375 [==============================] - 3s 9ms/step - loss: 0.6145 - accuracy: 0.6624 - val_loss: 0.6133 - val_accuracy: 0.6594\n",
      "Epoch 10/10\n",
      "375/375 [==============================] - 4s 10ms/step - loss: 0.6130 - accuracy: 0.6632 - val_loss: 0.6105 - val_accuracy: 0.6627\n"
     ]
    }
   ],
   "source": [
    "history = model.fit(X_train, y_train,\n",
    "                    epochs=10,\n",
    "                    batch_size=100,\n",
    "                    validation_data=(X_test, y_test))"
   ]
  },
  {
   "cell_type": "code",
   "execution_count": 52,
   "metadata": {},
   "outputs": [
    {
     "name": "stdout",
     "output_type": "stream",
     "text": [
      "Test loss: 0.610451340675354\n",
      "Test accuracy: 0.6627200245857239\n"
     ]
    },
    {
     "data": {
      "image/png": "[encoded data removed]",
      "text/plain": [
       "<Figure size 432x288 with 2 Axes>"
      ]
     },
     "metadata": {
      "needs_background": "light"
     },
     "output_type": "display_data"
    }
   ],
   "source": [
    "score = model.evaluate(X_test, y_test, verbose=0)\n",
    "print(\"Test loss:\", score[0])\n",
    "print(\"Test accuracy:\", score[1])\n",
    "\n",
    "# Visualize results\n",
    "visualize_training_results(history)"
   ]
  },
  {
   "cell_type": "markdown",
   "metadata": {},
   "source": [
    "Evaluate:\n",
    "\n",
    "- \n"
   ]
  },
  {
   "cell_type": "markdown",
   "metadata": {},
   "source": [
    "### Treat Embeddings as Starting Weights, but Allow Training:"
   ]
  },
  {
   "cell_type": "code",
   "execution_count": 53,
   "metadata": {},
   "outputs": [
    {
     "name": "stdout",
     "output_type": "stream",
     "text": [
      "Model: \"sequential_2\"\n",
      "_________________________________________________________________\n",
      "Layer (type)                 Output Shape              Param #   \n",
      "=================================================================\n",
      "embedding_1 (Embedding)      (None, 1452, 50)          5510100   \n",
      "_________________________________________________________________\n",
      "global_max_pooling1d_1 (Glob (None, 50)                0         \n",
      "_________________________________________________________________\n",
      "dense_4 (Dense)              (None, 10)                510       \n",
      "_________________________________________________________________\n",
      "dense_5 (Dense)              (None, 1)                 11        \n",
      "=================================================================\n",
      "Total params: 5,510,621\n",
      "Trainable params: 5,510,621\n",
      "Non-trainable params: 0\n",
      "_________________________________________________________________\n"
     ]
    }
   ],
   "source": [
    "# Time to model!\n",
    "model = keras.models.Sequential()\n",
    "model.add(layers.Embedding(vocab_size, embedding_dim, \n",
    "                           weights=[embedding_matrix], \n",
    "                           input_length=max_length, \n",
    "                           trainable=True)) # Now it can retrain the embedding layer\n",
    "model.add(layers.GlobalMaxPool1D())\n",
    "model.add(layers.Dense(10, activation='relu'))\n",
    "model.add(layers.Dense(1, activation='sigmoid'))\n",
    "\n",
    "model.compile(optimizer='adam',\n",
    "              loss='binary_crossentropy',\n",
    "              metrics=['accuracy'])\n",
    "model.summary()"
   ]
  },
  {
   "cell_type": "code",
   "execution_count": 54,
   "metadata": {},
   "outputs": [
    {
     "name": "stdout",
     "output_type": "stream",
     "text": [
      "Epoch 1/10\n",
      "375/375 [==============================] - 35s 92ms/step - loss: 0.6522 - accuracy: 0.6203 - val_loss: 0.5886 - val_accuracy: 0.7138\n",
      "Epoch 2/10\n",
      "375/375 [==============================] - 36s 97ms/step - loss: 0.5082 - accuracy: 0.7675 - val_loss: 0.4582 - val_accuracy: 0.7905\n",
      "Epoch 3/10\n",
      "375/375 [==============================] - 36s 96ms/step - loss: 0.3973 - accuracy: 0.8263 - val_loss: 0.4037 - val_accuracy: 0.8162\n",
      "Epoch 4/10\n",
      "375/375 [==============================] - 34s 92ms/step - loss: 0.3337 - accuracy: 0.8577 - val_loss: 0.3724 - val_accuracy: 0.8337\n",
      "Epoch 5/10\n",
      "375/375 [==============================] - 35s 93ms/step - loss: 0.2843 - accuracy: 0.8827 - val_loss: 0.3610 - val_accuracy: 0.8400\n",
      "Epoch 6/10\n",
      "375/375 [==============================] - 34s 90ms/step - loss: 0.2452 - accuracy: 0.9024 - val_loss: 0.3568 - val_accuracy: 0.8458\n",
      "Epoch 7/10\n",
      "375/375 [==============================] - 36s 95ms/step - loss: 0.2101 - accuracy: 0.9179 - val_loss: 0.3579 - val_accuracy: 0.8494\n",
      "Epoch 8/10\n",
      "375/375 [==============================] - 36s 96ms/step - loss: 0.1773 - accuracy: 0.9340 - val_loss: 0.3689 - val_accuracy: 0.8521\n",
      "Epoch 9/10\n",
      "375/375 [==============================] - 35s 95ms/step - loss: 0.1475 - accuracy: 0.9467 - val_loss: 0.3799 - val_accuracy: 0.8490\n",
      "Epoch 10/10\n",
      "375/375 [==============================] - 34s 92ms/step - loss: 0.1208 - accuracy: 0.9599 - val_loss: 0.3918 - val_accuracy: 0.8505\n"
     ]
    }
   ],
   "source": [
    "history = model.fit(X_train, y_train,\n",
    "                    epochs=10,\n",
    "                    batch_size=100,\n",
    "                    validation_data=(X_test, y_test))\n",
    "# Takes about... 3 minutes?"
   ]
  },
  {
   "cell_type": "code",
   "execution_count": 55,
   "metadata": {
    "scrolled": true
   },
   "outputs": [
    {
     "name": "stdout",
     "output_type": "stream",
     "text": [
      "Test loss: 0.3918270766735077\n",
      "Test accuracy: 0.8504800200462341\n"
     ]
    },
    {
     "data": {
      "image/png": "[encoded data removed]",
      "text/plain": [
       "<Figure size 432x288 with 2 Axes>"
      ]
     },
     "metadata": {
      "needs_background": "light"
     },
     "output_type": "display_data"
    }
   ],
   "source": [
    "score = model.evaluate(X_test, y_test, verbose=0)\n",
    "print(\"Test loss:\", score[0])\n",
    "print(\"Test accuracy:\", score[1])\n",
    "\n",
    "# Visualize results\n",
    "visualize_training_results(history)"
   ]
  },
  {
   "cell_type": "markdown",
   "metadata": {},
   "source": [
    "Evalutate:\n",
    "\n",
    "- \n"
   ]
  },
  {
   "cell_type": "markdown",
   "metadata": {},
   "source": [
    "### Early Stopping\n",
    "\n",
    "Patience: how many epochs that model can keep running without improvement before the training is stopped\n",
    "\n",
    "Reference: https://machinelearningmastery.com/how-to-stop-training-deep-neural-networks-at-the-right-time-using-early-stopping/"
   ]
  },
  {
   "cell_type": "code",
   "execution_count": 56,
   "metadata": {},
   "outputs": [],
   "source": [
    "# Implement early stopping\n",
    "from keras.callbacks import EarlyStopping\n",
    "es = EarlyStopping(monitor='val_loss', mode='min', verbose=1, patience=2)"
   ]
  },
  {
   "cell_type": "code",
   "execution_count": 57,
   "metadata": {},
   "outputs": [],
   "source": [
    "# Combine with a model saving feature, so it saves as it improves\n",
    "from keras.callbacks import ModelCheckpoint\n",
    "mc = ModelCheckpoint('best_model.h5', monitor='val_accuracy', mode='max', verbose=1, save_best_only=True)"
   ]
  },
  {
   "cell_type": "code",
   "execution_count": 58,
   "metadata": {
    "scrolled": true
   },
   "outputs": [
    {
     "name": "stdout",
     "output_type": "stream",
     "text": [
      "Model: \"sequential_2\"\n",
      "_________________________________________________________________\n",
      "Layer (type)                 Output Shape              Param #   \n",
      "=================================================================\n",
      "embedding_1 (Embedding)      (None, 1452, 50)          5510100   \n",
      "_________________________________________________________________\n",
      "global_max_pooling1d_1 (Glob (None, 50)                0         \n",
      "_________________________________________________________________\n",
      "dense_4 (Dense)              (None, 10)                510       \n",
      "_________________________________________________________________\n",
      "dense_5 (Dense)              (None, 1)                 11        \n",
      "=================================================================\n",
      "Total params: 5,510,621\n",
      "Trainable params: 5,510,621\n",
      "Non-trainable params: 0\n",
      "_________________________________________________________________\n"
     ]
    }
   ],
   "source": [
    "# Same model as just before this\n",
    "model.summary()"
   ]
  },
  {
   "cell_type": "code",
   "execution_count": 59,
   "metadata": {},
   "outputs": [
    {
     "name": "stdout",
     "output_type": "stream",
     "text": [
      "Epoch 1/100\n",
      "375/375 [==============================] - ETA: 0s - loss: 0.0971 - accuracy: 0.9702\n",
      "Epoch 00001: val_accuracy improved from -inf to 0.85064, saving model to best_model.h5\n",
      "375/375 [==============================] - 35s 94ms/step - loss: 0.0971 - accuracy: 0.9702 - val_loss: 0.4116 - val_accuracy: 0.8506\n",
      "Epoch 2/100\n",
      "375/375 [==============================] - ETA: 0s - loss: 0.0763 - accuracy: 0.9788\n",
      "Epoch 00002: val_accuracy did not improve from 0.85064\n",
      "375/375 [==============================] - 37s 100ms/step - loss: 0.0763 - accuracy: 0.9788 - val_loss: 0.4346 - val_accuracy: 0.8478\n",
      "Epoch 3/100\n",
      "375/375 [==============================] - ETA: 0s - loss: 0.0595 - accuracy: 0.9848\n",
      "Epoch 00003: val_accuracy did not improve from 0.85064\n",
      "375/375 [==============================] - 35s 94ms/step - loss: 0.0595 - accuracy: 0.9848 - val_loss: 0.4575 - val_accuracy: 0.8480\n",
      "Epoch 00003: early stopping\n"
     ]
    }
   ],
   "source": [
    "# Just adding more epochs\n",
    "history = model.fit(X_train, y_train,\n",
    "                    epochs=100,\n",
    "                    batch_size=100,\n",
    "                    validation_data=(X_test, y_test),\n",
    "                    callbacks=[es, mc])"
   ]
  },
  {
   "cell_type": "markdown",
   "metadata": {},
   "source": [
    "### LSTM - Long Short Term Memory\n",
    "\n",
    "Note: current bug in tensorflow related to the newest numpy version, if you have numpy version 1.20 + this won't work.\n",
    "\n",
    "https://github.com/tensorflow/models/issues/9706"
   ]
  },
  {
   "cell_type": "code",
   "execution_count": 60,
   "metadata": {},
   "outputs": [
    {
     "data": {
      "text/plain": [
       "'1.20.1'"
      ]
     },
     "execution_count": 60,
     "metadata": {},
     "output_type": "execute_result"
    }
   ],
   "source": [
    "np.__version__"
   ]
  },
  {
   "cell_type": "code",
   "execution_count": null,
   "metadata": {
    "scrolled": true
   },
   "outputs": [],
   "source": [
    "model = keras.models.Sequential()\n",
    "model.add(layers.Embedding(vocab_size, embedding_dim,\n",
    "                           weights=[embedding_matrix],\n",
    "                           input_length=max_length,\n",
    "                           trainable=True))\n",
    "# Changing our previous simple dense layer to an LSTM\n",
    "# Adding some dropout to prevent overfitting\n",
    "model.add(layers.LSTM(embedding_dim, \n",
    "                      dropout=0.2,\n",
    "                      return_sequences=True))\n",
    "model.add(layers.Dense(1, activation='sigmoid'))\n",
    "\n",
    "model.compile(optimizer='adam',\n",
    "              loss='binary_crossentropy',\n",
    "              metrics=['accuracy'])\n",
    "model.summary()"
   ]
  },
  {
   "cell_type": "code",
   "execution_count": null,
   "metadata": {},
   "outputs": [],
   "source": [
    "history = model.fit(X_train, y_train,\n",
    "                    epochs=10,\n",
    "                    batch_size=100,\n",
    "                    validation_data=(X_test, y_test))"
   ]
  },
  {
   "cell_type": "markdown",
   "metadata": {},
   "source": [
    "Post-class note: I will add a version of the Kaggle notebook or a link to the Kaggle notebook with the output so you can see what this looks like after it's run!"
   ]
  },
  {
   "cell_type": "markdown",
   "metadata": {},
   "source": [
    "### Saving your model"
   ]
  },
  {
   "cell_type": "code",
   "execution_count": 61,
   "metadata": {},
   "outputs": [],
   "source": [
    "model.save('model.h5')\n",
    "model.save_weights('model_weights.h5')"
   ]
  },
  {
   "cell_type": "code",
   "execution_count": 65,
   "metadata": {},
   "outputs": [],
   "source": [
    "from keras.models import load_model\n",
    "\n",
    "my_model = load_model('best_model.h5')\n",
    "# my_model.load_weights('model_weights.h5')"
   ]
  },
  {
   "cell_type": "code",
   "execution_count": 67,
   "metadata": {},
   "outputs": [
    {
     "name": "stdout",
     "output_type": "stream",
     "text": [
      "Model: \"sequential_2\"\n",
      "_________________________________________________________________\n",
      "Layer (type)                 Output Shape              Param #   \n",
      "=================================================================\n",
      "embedding_1 (Embedding)      (None, 1452, 50)          5510100   \n",
      "_________________________________________________________________\n",
      "global_max_pooling1d_1 (Glob (None, 50)                0         \n",
      "_________________________________________________________________\n",
      "dense_4 (Dense)              (None, 10)                510       \n",
      "_________________________________________________________________\n",
      "dense_5 (Dense)              (None, 1)                 11        \n",
      "=================================================================\n",
      "Total params: 5,510,621\n",
      "Trainable params: 5,510,621\n",
      "Non-trainable params: 0\n",
      "_________________________________________________________________\n"
     ]
    }
   ],
   "source": [
    "my_model.summary()"
   ]
  },
  {
   "cell_type": "code",
   "execution_count": 66,
   "metadata": {},
   "outputs": [
    {
     "name": "stdout",
     "output_type": "stream",
     "text": [
      "391/391 [==============================] - 1s 2ms/step - loss: 0.4116 - accuracy: 0.8506\n"
     ]
    },
    {
     "data": {
      "text/plain": [
       "[0.41158032417297363, 0.8506399989128113]"
      ]
     },
     "execution_count": 66,
     "metadata": {},
     "output_type": "execute_result"
    }
   ],
   "source": [
    "my_model.evaluate(X_test, y_test)"
   ]
  },
  {
   "cell_type": "code",
   "execution_count": null,
   "metadata": {},
   "outputs": [],
   "source": []
  }
 ],
 "metadata": {
  "kernelspec": {
   "display_name": "learn-env",
   "language": "python",
   "name": "learn-env"
  },
  "language_info": {
   "codemirror_mode": {
    "name": "ipython",
    "version": 3
   },
   "file_extension": ".py",
   "mimetype": "text/x-python",
   "name": "python",
   "nbconvert_exporter": "python",
   "pygments_lexer": "ipython3",
   "version": "3.8.5"
  }
 },
 "nbformat": 4,
 "nbformat_minor": 4
}
